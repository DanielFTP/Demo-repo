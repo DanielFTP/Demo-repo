{
 "cells": [
  {
   "cell_type": "code",
   "execution_count": 145,
   "metadata": {},
   "outputs": [
    {
     "name": "stdout",
     "output_type": "stream",
     "text": [
      "Class average is 81.7\n"
     ]
    }
   ],
   "source": [
    "# initialization phase\n",
    "t = 0 # sum of grades\n",
    "g = 0 # grade counter\n",
    "grades = [98, 76, 71, 87, 83, 90, 57, 79, 82, 94] # list of 10 grades\n",
    "\n",
    "# processing phase\n",
    "\n",
    "for n in grades:\n",
    "    t += n # add current grade to the running total\n",
    "    g += 1 # indicate that one more grade was processed - evita tener que poner 10 - el numero de notas\n",
    "    \n",
    "# termination phase\n",
    "\n",
    "average = t / g\n",
    "#print(g)\n",
    "print(f'Class average is {average}')"
   ]
  },
  {
   "cell_type": "code",
   "execution_count": 14,
   "metadata": {},
   "outputs": [
    {
     "name": "stdout",
     "output_type": "stream",
     "text": [
      "Class average is 7.6000000000\n"
     ]
    }
   ],
   "source": [
    "# initialization phase\n",
    "total = 0 # sum of grades\n",
    "grade_counter = 0 # number of grades entered\n",
    "\n",
    "# processing phase\n",
    "grade = int(input('Enter grade, -1 to end: '))\n",
    "\n",
    "# get one grade\n",
    "while grade != -1:\n",
    "    total += grade\n",
    "    grade_counter += 1\n",
    "    grade = int(input('Enter grade, -1 to end: '))\n",
    "\n",
    "# termination phase\n",
    "if grade_counter != 0:\n",
    "    average = total / grade_counter\n",
    "    print(f'Class average is {average:.10f}')\n",
    "else:\n",
    "    print('No grades were entered')"
   ]
  },
  {
   "cell_type": "code",
   "execution_count": 18,
   "metadata": {},
   "outputs": [
    {
     "name": "stdout",
     "output_type": "stream",
     "text": [
      "The number of passes is: 8\n",
      "The number of failures is: 2\n",
      "Bonus to instructure\n"
     ]
    }
   ],
   "source": [
    "# Initialization phase : Inizilize variables\n",
    "\n",
    "passes = 0\n",
    "failures = 0\n",
    "\n",
    "# Processing phase: Input the ten exam grades and count passes and failures\n",
    "\n",
    "for c in range(10):\n",
    "    grade = int(input('Enter grade'))\n",
    "    if grade == 1:\n",
    "        passes += 1\n",
    "    else:\n",
    "        failures += 1\n",
    "\n",
    "# Termination phase: Summarize the exam results and decide whether instructor should receive a bonus\n",
    "\n",
    "print('The number of passes is:', passes)\n",
    "print('The number of failures is:', failures)\n",
    "\n",
    "if passes >= 8:\n",
    "    print('Bonus to instructure')"
   ]
  },
  {
   "cell_type": "code",
   "execution_count": 24,
   "metadata": {},
   "outputs": [
    {
     "name": "stdout",
     "output_type": "stream",
     "text": [
      "The value 1 is odd\n",
      "The value 2 is even\n",
      "The value 3 is odd\n",
      "The value 4 is even\n",
      "The value 5 is odd\n"
     ]
    }
   ],
   "source": [
    "for c in range(5):\n",
    "    value = int(input('Enter an integer: '))\n",
    "    if value%2 == 0:\n",
    "        print(f'The value {value} is even')\n",
    "    else:\n",
    "        print(f'The value {value} is odd')"
   ]
  },
  {
   "cell_type": "code",
   "execution_count": 89,
   "metadata": {},
   "outputs": [
    {
     "name": "stdout",
     "output_type": "stream",
     "text": [
      "The mean is 79.16666666666667\n",
      "The mode is 88\n",
      "The median is 86.0\n",
      "The sorted list is [47, 73, 84, 88, 88, 95]\n"
     ]
    }
   ],
   "source": [
    "# For the values 47, 95, 88, 73, 88 and 84, use the statistics module to calculate the mean, median and mode.\n",
    "\n",
    "import statistics as sta \n",
    "\n",
    "list = [47, 95, 88, 73, 88, 84]\n",
    "\n",
    "print(f'The mean is {sta.mean(list)}')\n",
    "print(f'The mode is {sta.mode(list)}')\n",
    "print(f'The median is {sta.median(list)}')\n",
    "print(f'The sorted list is {sorted(list)}')"
   ]
  },
  {
   "cell_type": "code",
   "execution_count": 94,
   "metadata": {},
   "outputs": [
    {
     "name": "stdout",
     "output_type": "stream",
     "text": [
      ">>>>>>>>>>\n",
      "<<<<<<<<<<\n",
      ">>>>>>>>>>\n",
      "<<<<<<<<<<\n",
      ">>>>>>>>>>\n",
      "<<<<<<<<<<\n",
      ">>>>>>>>>>\n",
      "<<<<<<<<<<\n",
      ">>>>>>>>>>\n",
      "<<<<<<<<<<\n"
     ]
    }
   ],
   "source": [
    "for row in range(10):\n",
    "    for column in range(10):\n",
    "        print('<' if row % 2 == 1 else '>', end='')\n",
    "    print()"
   ]
  },
  {
   "cell_type": "code",
   "execution_count": 114,
   "metadata": {},
   "outputs": [
    {
     "name": "stdout",
     "output_type": "stream",
     "text": [
      "Enter two integers, and I will tell you the relationships they satisfy.\n",
      "1 is equal to 1\n"
     ]
    }
   ],
   "source": [
    "print('Enter two integers, and I will tell you the relationships they satisfy.')\n",
    "\n",
    "number1 = int(input('Enter first integer: '))\n",
    "number2 = int(input('Enter second integer: '))\n",
    "\n",
    "if number1 == number2:\n",
    "    print(number1, 'is equal to', number2)\n",
    "else:\n",
    "    print(number1, 'is not equal to', number2)\n",
    "    if number1 < number2:\n",
    "        print(number1, 'is less than', number2)\n",
    "    else:\n",
    "        print(number1, 'is greater than', number2)\n"
   ]
  },
  {
   "cell_type": "code",
   "execution_count": 15,
   "metadata": {},
   "outputs": [
    {
     "name": "stdout",
     "output_type": "stream",
     "text": [
      "4 1 3 2 6 4 6 3 2 6 "
     ]
    }
   ],
   "source": [
    "import random\n",
    "\n",
    "#random.seed(0)\n",
    "for roll in range(10):\n",
    "    print(random.randrange(1, 7), end=' ')"
   ]
  },
  {
   "cell_type": "code",
   "execution_count": 95,
   "metadata": {},
   "outputs": [
    {
     "name": "stdout",
     "output_type": "stream",
     "text": [
      "Player rolled 4 + 6 = 10\n",
      "Point is 10\n",
      "Player rolled 4 + 3 = 7\n",
      "Player loses\n"
     ]
    }
   ],
   "source": [
    "import random\n",
    "\n",
    "def roll_dice():\n",
    "    \"\"\" Roll two dice and return their face values as a tuple.\"\"\"\n",
    "    die1 = random.randrange(1, 7)\n",
    "    die2 = random.randrange(1, 7)\n",
    "    return (die1, die2) # pack die face values into a tuple\n",
    "\n",
    "def display_dice(dice):\n",
    "    \"\"\"Display one roll of the two dice.\"\"\"\n",
    "    (Die1, Die2) = dice # unpack the tuple into variables die1 and die2\n",
    "    print(f'Player rolled {Die1} + {Die2} = {sum(dice)}') \n",
    "\n",
    "die_values = roll_dice() # First roll\n",
    "display_dice(die_values)\n",
    "\n",
    "# determine game status and point, based on first roll\n",
    "sum_of_dice = sum(die_values)\n",
    "\n",
    "if sum_of_dice == 7 or sum_of_dice == 11: # win\n",
    "    game_status = 'WON'\n",
    "elif sum_of_dice in (2, 3, 12): # lose\n",
    "    game_status = 'LOST'\n",
    "else: # remember point\n",
    "    game_status = 'CONTINUE'\n",
    "    my_point = sum_of_dice\n",
    "    print('Point is', my_point)\n",
    "\n",
    "# continue rolling until player wins or loses\n",
    "while game_status == 'CONTINUE':\n",
    "    die_values = roll_dice() # Estas lineas son cada una para jugar de nuevo\n",
    "    display_dice(die_values) #\n",
    "    sum_of_dice = sum(die_values) #\n",
    "    if sum_of_dice == my_point: # win by making point\n",
    "        game_status = 'WON'\n",
    "    elif sum_of_dice == 7: # lose by rolling 7\n",
    "        game_status = 'LOST'\n",
    "\n",
    "# display \"wins\" or \"loses\" message\n",
    "if game_status == 'WON':\n",
    "    print('Player wins')\n",
    "else:\n",
    "    print('Player loses')"
   ]
  },
  {
   "cell_type": "code",
   "execution_count": 106,
   "metadata": {},
   "outputs": [
    {
     "data": {
      "text/plain": [
       "13"
      ]
     },
     "execution_count": 106,
     "metadata": {},
     "output_type": "execute_result"
    }
   ],
   "source": [
    "import random \n",
    "\n",
    "random.randrange(1,44)"
   ]
  },
  {
   "cell_type": "code",
   "execution_count": 108,
   "metadata": {},
   "outputs": [
    {
     "data": {
      "text/plain": [
       "9.869604401089358"
      ]
     },
     "execution_count": 108,
     "metadata": {},
     "output_type": "execute_result"
    }
   ],
   "source": [
    "import math\n",
    "\n",
    "math.factorial"
   ]
  },
  {
   "cell_type": "code",
   "execution_count": 109,
   "metadata": {},
   "outputs": [],
   "source": [
    "def rectangle_area(length=2, width=3):\n",
    "    \"\"\"Return a rectangle's area.\"\"\"\n",
    "    return length * width"
   ]
  },
  {
   "cell_type": "code",
   "execution_count": 121,
   "metadata": {},
   "outputs": [
    {
     "data": {
      "text/plain": [
       "55.4"
      ]
     },
     "execution_count": 121,
     "metadata": {},
     "output_type": "execute_result"
    }
   ],
   "source": [
    "grades = [8, 75, 56, 55, 83]\n",
    "average(*grades)"
   ]
  },
  {
   "cell_type": "code",
   "execution_count": 157,
   "metadata": {},
   "outputs": [
    {
     "data": {
      "text/plain": [
       "1"
      ]
     },
     "execution_count": 157,
     "metadata": {},
     "output_type": "execute_result"
    }
   ],
   "source": [
    "def calculate_products(*args):\n",
    "    product = 1\n",
    "    for value in args:\n",
    "        product = product*value\n",
    "    return product\n",
    "\n",
    "calculate_products(*range(5,2,2))"
   ]
  },
  {
   "cell_type": "code",
   "execution_count": 2,
   "metadata": {},
   "outputs": [
    {
     "name": "stdout",
     "output_type": "stream",
     "text": [
      "The cube of 2 is 8\n"
     ]
    }
   ],
   "source": [
    "def cube(x):\n",
    "    \"\"\"Calculate the cube of x.\"\"\"\n",
    "    return x ** 3\n",
    "\n",
    "print('The cube of 2 is', cube(2))"
   ]
  },
  {
   "cell_type": "code",
   "execution_count": 11,
   "metadata": {},
   "outputs": [
    {
     "data": {
      "text/plain": [
       "108"
      ]
     },
     "execution_count": 11,
     "metadata": {},
     "output_type": "execute_result"
    }
   ],
   "source": [
    "def mystery(x):\n",
    "    y = 0\n",
    "    for i in x:\n",
    "        if i % 2 == 0:\n",
    "            y += i\n",
    "    return y\n",
    "\n",
    "mystery([2,1,2,2,2,100])"
   ]
  },
  {
   "cell_type": "code",
   "execution_count": 13,
   "metadata": {},
   "outputs": [
    {
     "data": {
      "text/plain": [
       "1.3333333333333333"
      ]
     },
     "execution_count": 13,
     "metadata": {},
     "output_type": "execute_result"
    }
   ],
   "source": [
    "def calc_slope(x1,y1,x2,y2):\n",
    "    delta_x = x2-x1\n",
    "    delta_y = y2-y1\n",
    "    slope = delta_y/delta_x\n",
    "    return slope\n",
    "\n",
    "calc_slope(1,1,4,5)"
   ]
  },
  {
   "cell_type": "code",
   "execution_count": 46,
   "metadata": {},
   "outputs": [
    {
     "name": "stdout",
     "output_type": "stream",
     "text": [
      "Sorry, not quite, please try again\n",
      "Oh sorry, please try again\n",
      "Very good, you got it\n"
     ]
    }
   ],
   "source": [
    "import random as rd\n",
    "\n",
    "def random_gen():\n",
    "    \"\"\"Generate a pair of numbers randomly\"\"\"\n",
    "    r1 = rd.randrange(0, 10)\n",
    "    r2 = rd.randrange(0, 10)\n",
    "    return (r1, r2)\n",
    "\n",
    "def multi(R1,R2):\n",
    "    \"\"\"Multiplies the random numbers generated\"\"\"\n",
    "    # unpack the tuple into variables R1 and R2\n",
    "    return R1*R2\n",
    "\n",
    "x1,x2 = random_gen() # First roll\n",
    "multi(x1,x2)\n",
    "\n",
    "ingresa = int(input(f'How much is: {x1} times {x2}?'))\n",
    "\n",
    "# determine the product of the numbers\n",
    "product_of_numbers = multi(x1,x2)\n",
    "\n",
    "if ingresa == product_of_numbers : # win\n",
    "    game_status = 'WON'\n",
    "    print('Very good!')\n",
    "else: # Lose\n",
    "    print('Sorry, not quite, please try again')\n",
    "    game_status = 'CONTINUE'\n",
    "\n",
    "# continue entering numbers until player gets the answer\n",
    "while game_status == 'CONTINUE':\n",
    "    x1,x2 = random_gen() # Estas lineas son cada una para jugar de nuevo\n",
    "    multi(x1,x2)\n",
    "    product_of_numbers = multi(x1,x2) #\n",
    "    ingresa = int(input(f'How much is: {x1} times {x2}?')) #\n",
    "    if ingresa == product_of_numbers : # win\n",
    "        game_status = 'WON'\n",
    "    # display \"wins\" or \"loses\" message\n",
    "    if game_status == 'WON':\n",
    "        print('Very good, you got it')\n",
    "    else:\n",
    "        print('Oh sorry, please try again')\n"
   ]
  },
  {
   "cell_type": "code",
   "execution_count": 56,
   "metadata": {},
   "outputs": [
    {
     "data": {
      "text/plain": [
       "1"
      ]
     },
     "execution_count": 56,
     "metadata": {},
     "output_type": "execute_result"
    }
   ],
   "source": [
    "T = (1,2)\n",
    "type(T)\n",
    "T[0]"
   ]
  },
  {
   "cell_type": "code",
   "execution_count": 66,
   "metadata": {},
   "outputs": [
    {
     "data": {
      "text/plain": [
       "('bla', 3, [1, 5], 'laf')"
      ]
     },
     "execution_count": 66,
     "metadata": {},
     "output_type": "execute_result"
    }
   ],
   "source": [
    "tupla = ('bla', 3, [1, 2])\n",
    "tupla[2][1] = 5 \n",
    "tupla += ('laf',)\n",
    "tupla"
   ]
  },
  {
   "cell_type": "code",
   "execution_count": 69,
   "metadata": {},
   "outputs": [],
   "source": [
    "lista = [1,2,3,'H']"
   ]
  },
  {
   "cell_type": "code",
   "execution_count": 71,
   "metadata": {},
   "outputs": [
    {
     "data": {
      "text/plain": [
       "'a'"
      ]
     },
     "execution_count": 71,
     "metadata": {},
     "output_type": "execute_result"
    }
   ],
   "source": [
    "s = ['a', 'b', 'c']\n",
    "s[0]"
   ]
  },
  {
   "cell_type": "code",
   "execution_count": 80,
   "metadata": {},
   "outputs": [
    {
     "name": "stdout",
     "output_type": "stream",
     "text": [
      "[(0, 'red'), (1, 'orange'), (2, 'yellow')]\n",
      "((0, 'red'), (1, 'orange'), (2, 'yellow'))\n"
     ]
    }
   ],
   "source": [
    "colors = ['red', 'orange', 'yellow']\n",
    "print(list(enumerate(colors)))\n",
    "print(tuple(enumerate(colors)))"
   ]
  },
  {
   "cell_type": "code",
   "execution_count": 1,
   "metadata": {},
   "outputs": [],
   "source": [
    "a = [[77, 68, 86, 73], [96, 87, 89, 81], [70, 90, 86, 81]]"
   ]
  },
  {
   "cell_type": "code",
   "execution_count": 4,
   "metadata": {},
   "outputs": [
    {
     "name": "stdout",
     "output_type": "stream",
     "text": [
      "77 68 86 73 \n",
      "96 87 89 81 \n",
      "70 90 86 81 \n"
     ]
    }
   ],
   "source": [
    "for row in a:\n",
    "    for item in row:\n",
    "        print(item, end=' ')\n",
    "    print()"
   ]
  },
  {
   "cell_type": "code",
   "execution_count": 16,
   "metadata": {},
   "outputs": [
    {
     "data": {
      "text/plain": [
       "[(0, -17.77777777777778),\n",
       " (10, -12.222222222222223),\n",
       " (20, -6.666666666666667),\n",
       " (30, -1.1111111111111112),\n",
       " (40, 4.444444444444445),\n",
       " (50, 10.0),\n",
       " (60, 15.555555555555557),\n",
       " (70, 21.11111111111111),\n",
       " (80, 26.666666666666668),\n",
       " (90, 32.22222222222222),\n",
       " (100, 37.77777777777778)]"
      ]
     },
     "execution_count": 16,
     "metadata": {},
     "output_type": "execute_result"
    }
   ],
   "source": [
    "c = lambda f: 5 / 9 * (f - 32)\n",
    "temps = [(f, c(f)) for f in range(0, 101, 10)]\n",
    "temps"
   ]
  },
  {
   "cell_type": "code",
   "execution_count": 1,
   "metadata": {},
   "outputs": [
    {
     "name": "stdout",
     "output_type": "stream",
     "text": [
      "Example 1: \n",
      "  Square root of 2 = 1.41421\n"
     ]
    }
   ],
   "source": [
    "import math\n",
    "\n",
    "print('Example 1: ')\n",
    "print(\"  Square root of 2 = %g\" % math.sqrt(2))"
   ]
  },
  {
   "cell_type": "code",
   "execution_count": 2,
   "metadata": {},
   "outputs": [
    {
     "name": "stdout",
     "output_type": "stream",
     "text": [
      "Square root of 2 = 1.4142135623730951\n"
     ]
    }
   ],
   "source": [
    "print(f'Square root of 2 = {math.sqrt(2)}')"
   ]
  },
  {
   "cell_type": "code",
   "execution_count": 13,
   "metadata": {},
   "outputs": [
    {
     "data": {
      "text/plain": [
       "numpy.ndarray"
      ]
     },
     "execution_count": 13,
     "metadata": {},
     "output_type": "execute_result"
    }
   ],
   "source": [
    "x_data = np.array([-2.5, -2, -1.5, -1, -.5, 0, .5, 1, 1.5, 2, 2.5, 3])\n",
    "type(x_data)"
   ]
  },
  {
   "cell_type": "code",
   "execution_count": 48,
   "metadata": {},
   "outputs": [
    {
     "name": "stdout",
     "output_type": "stream",
     "text": [
      "0.0016140484406028505\n",
      "0.013035685963203258\n"
     ]
    }
   ],
   "source": [
    "import numpy as np\n",
    "\n",
    "mu, sigma = 0, 1 # mean and standard deviation\n",
    "s = np.random.normal(mu, sigma, 1000)\n",
    "# Verify the mean and the variance:\n",
    "print(abs(mu - np.mean(s)))\n",
    "print(abs(sigma - np.std(s, ddof=1)))"
   ]
  },
  {
   "cell_type": "code",
   "execution_count": 51,
   "metadata": {},
   "outputs": [
    {
     "data": {
      "image/png": "[encoded data removed]",
      "text/plain": [
       "<Figure size 432x288 with 1 Axes>"
      ]
     },
     "metadata": {
      "needs_background": "light"
     },
     "output_type": "display_data"
    }
   ],
   "source": [
    "#Display the histogram of the samples, along with the probability density function:\n",
    "import matplotlib.pyplot as plt\n",
    "count, bins, ignored = plt.hist(s, 30, density=True)\n",
    "\n",
    "plt.plot(bins, 1/(sigma*np.sqrt(2*np.pi)) * np.exp( -(bins - mu)**2 /(2*sigma**2) ), linewidth=2, color='r')\n",
    "plt.show()\n"
   ]
  },
  {
   "cell_type": "code",
   "execution_count": 67,
   "metadata": {},
   "outputs": [
    {
     "data": {
      "text/plain": [
       "2.8290764145171625"
      ]
     },
     "execution_count": 67,
     "metadata": {},
     "output_type": "execute_result"
    }
   ],
   "source": [
    "#Two-by-four array of samples from N(3, 6.25):\n",
    "\n",
    "np.random.normal(3, 2.5, size=None)"
   ]
  },
  {
   "cell_type": "code",
   "execution_count": 77,
   "metadata": {},
   "outputs": [
    {
     "data": {
      "image/png": "[encoded data removed]",
      "text/plain": [
       "<Figure size 144x144 with 1 Axes>"
      ]
     },
     "metadata": {
      "needs_background": "light"
     },
     "output_type": "display_data"
    }
   ],
   "source": [
    "import matplotlib.pyplot as plt\n",
    "import numpy as np\n",
    "\n",
    "#plt.style.use('_mpl-gallery')\n",
    "\n",
    "# make data:\n",
    "#np.random.seed(1)\n",
    "x = [2, 4, 6, 7]\n",
    "y = [3.6, 5, 4.2, 6]\n",
    "yerr = [0.9, 1.2, 0.5, 1]\n",
    "\n",
    "# plot:\n",
    "fig, ax = plt.subplots()\n",
    "\n",
    "ax.errorbar(x, y, yerr, fmt='o', linewidth=2, capsize=6)\n",
    "\n",
    "ax.set(xlim=(-1, 11), xticks=np.arange(-1, 11), ylim=(-1, 11), yticks=np.arange(-1, 11))\n",
    "\n",
    "plt.show()"
   ]
  }
 ],
 "metadata": {
  "interpreter": {
   "hash": "e91b93feb92ec1ef0d111ed5dfd9d02e82c3e9c4a83bf549db76366e5706cf8e"
  },
  "kernelspec": {
   "display_name": "Python 3.9.7 ('Pylab1')",
   "language": "python",
   "name": "python3"
  },
  "language_info": {
   "codemirror_mode": {
    "name": "ipython",
    "version": 3
   },
   "file_extension": ".py",
   "mimetype": "text/x-python",
   "name": "python",
   "nbconvert_exporter": "python",
   "pygments_lexer": "ipython3",
   "version": "3.9.7"
  },
  "orig_nbformat": 4
 },
 "nbformat": 4,
 "nbformat_minor": 2
}
